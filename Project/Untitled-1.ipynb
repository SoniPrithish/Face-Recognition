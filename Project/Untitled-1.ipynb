{
 "cells": [
  {
   "cell_type": "code",
   "execution_count": 4,
   "metadata": {},
   "outputs": [
    {
     "name": "stdout",
     "output_type": "stream",
     "text": [
      "Requirement already satisfied: opencv-python in ./.venv/lib/python3.12/site-packages (4.8.1.78)\n",
      "Requirement already satisfied: face_recognition in ./.venv/lib/python3.12/site-packages (1.3.0)\n",
      "Requirement already satisfied: numpy>=1.21.2 in ./.venv/lib/python3.12/site-packages (from opencv-python) (1.26.2)\n",
      "Requirement already satisfied: face-recognition-models>=0.3.0 in ./.venv/lib/python3.12/site-packages (from face_recognition) (0.3.0)\n",
      "Requirement already satisfied: Click>=6.0 in ./.venv/lib/python3.12/site-packages (from face_recognition) (8.1.7)\n",
      "Requirement already satisfied: dlib>=19.7 in ./.venv/lib/python3.12/site-packages (from face_recognition) (19.24.2)\n",
      "Requirement already satisfied: Pillow in ./.venv/lib/python3.12/site-packages (from face_recognition) (10.1.0)\n",
      "Note: you may need to restart the kernel to use updated packages.\n"
     ]
    }
   ],
   "source": [
    "pip install opencv-python face_recognition\n"
   ]
  },
  {
   "cell_type": "code",
   "execution_count": null,
   "metadata": {},
   "outputs": [],
   "source": []
  },
  {
   "cell_type": "code",
   "execution_count": 5,
   "metadata": {},
   "outputs": [
    {
     "name": "stdout",
     "output_type": "stream",
     "text": [
      "Skipping .DS_Store in Utsav due to an error: cannot identify image file 'dataset/Utsav/.DS_Store'\n"
     ]
    },
    {
     "ename": "TypeError",
     "evalue": "__call__(): incompatible function arguments. The following argument types are supported:\n    1. (self: _dlib_pybind11.fhog_object_detector, image: numpy.ndarray, upsample_num_times: int = 0) -> _dlib_pybind11.rectangles\n\nInvoked with: <_dlib_pybind11.fhog_object_detector object at 0x10623ac30>, None, 1",
     "output_type": "error",
     "traceback": [
      "\u001b[0;31m---------------------------------------------------------------------------\u001b[0m",
      "\u001b[0;31mTypeError\u001b[0m                                 Traceback (most recent call last)",
      "\u001b[1;32m/Users/prithishsoni/Desktop/Project/Untitled-1.ipynb Cell 3\u001b[0m line \u001b[0;36m9\n\u001b[1;32m     <a href='vscode-notebook-cell:/Users/prithishsoni/Desktop/Project/Untitled-1.ipynb#W1sZmlsZQ%3D%3D?line=87'>88</a>\u001b[0m     cv2\u001b[39m.\u001b[39mdestroyAllWindows()\n\u001b[1;32m     <a href='vscode-notebook-cell:/Users/prithishsoni/Desktop/Project/Untitled-1.ipynb#W1sZmlsZQ%3D%3D?line=89'>90</a>\u001b[0m \u001b[39m# Call the function to start face recognition using camera\u001b[39;00m\n\u001b[0;32m---> <a href='vscode-notebook-cell:/Users/prithishsoni/Desktop/Project/Untitled-1.ipynb#W1sZmlsZQ%3D%3D?line=90'>91</a>\u001b[0m recognize_faces()\n",
      "\u001b[1;32m/Users/prithishsoni/Desktop/Project/Untitled-1.ipynb Cell 3\u001b[0m line \u001b[0;36m5\n\u001b[1;32m     <a href='vscode-notebook-cell:/Users/prithishsoni/Desktop/Project/Untitled-1.ipynb#W1sZmlsZQ%3D%3D?line=54'>55</a>\u001b[0m ret, frame \u001b[39m=\u001b[39m cap\u001b[39m.\u001b[39mread()\n\u001b[1;32m     <a href='vscode-notebook-cell:/Users/prithishsoni/Desktop/Project/Untitled-1.ipynb#W1sZmlsZQ%3D%3D?line=56'>57</a>\u001b[0m \u001b[39m# Find all face locations and face encodings in the current frame\u001b[39;00m\n\u001b[0;32m---> <a href='vscode-notebook-cell:/Users/prithishsoni/Desktop/Project/Untitled-1.ipynb#W1sZmlsZQ%3D%3D?line=57'>58</a>\u001b[0m face_locations \u001b[39m=\u001b[39m face_recognition\u001b[39m.\u001b[39;49mface_locations(frame)\n\u001b[1;32m     <a href='vscode-notebook-cell:/Users/prithishsoni/Desktop/Project/Untitled-1.ipynb#W1sZmlsZQ%3D%3D?line=58'>59</a>\u001b[0m face_encodings \u001b[39m=\u001b[39m face_recognition\u001b[39m.\u001b[39mface_encodings(frame, face_locations)\n\u001b[1;32m     <a href='vscode-notebook-cell:/Users/prithishsoni/Desktop/Project/Untitled-1.ipynb#W1sZmlsZQ%3D%3D?line=60'>61</a>\u001b[0m \u001b[39m# Loop through each face found in the frame\u001b[39;00m\n",
      "File \u001b[0;32m~/Desktop/Project/.venv/lib/python3.12/site-packages/face_recognition/api.py:121\u001b[0m, in \u001b[0;36mface_locations\u001b[0;34m(img, number_of_times_to_upsample, model)\u001b[0m\n\u001b[1;32m    119\u001b[0m     \u001b[39mreturn\u001b[39;00m [_trim_css_to_bounds(_rect_to_css(face\u001b[39m.\u001b[39mrect), img\u001b[39m.\u001b[39mshape) \u001b[39mfor\u001b[39;00m face \u001b[39min\u001b[39;00m _raw_face_locations(img, number_of_times_to_upsample, \u001b[39m\"\u001b[39m\u001b[39mcnn\u001b[39m\u001b[39m\"\u001b[39m)]\n\u001b[1;32m    120\u001b[0m \u001b[39melse\u001b[39;00m:\n\u001b[0;32m--> 121\u001b[0m     \u001b[39mreturn\u001b[39;00m [_trim_css_to_bounds(_rect_to_css(face), img\u001b[39m.\u001b[39mshape) \u001b[39mfor\u001b[39;00m face \u001b[39min\u001b[39;00m _raw_face_locations(img, number_of_times_to_upsample, model)]\n",
      "File \u001b[0;32m~/Desktop/Project/.venv/lib/python3.12/site-packages/face_recognition/api.py:105\u001b[0m, in \u001b[0;36m_raw_face_locations\u001b[0;34m(img, number_of_times_to_upsample, model)\u001b[0m\n\u001b[1;32m    103\u001b[0m     \u001b[39mreturn\u001b[39;00m cnn_face_detector(img, number_of_times_to_upsample)\n\u001b[1;32m    104\u001b[0m \u001b[39melse\u001b[39;00m:\n\u001b[0;32m--> 105\u001b[0m     \u001b[39mreturn\u001b[39;00m face_detector(img, number_of_times_to_upsample)\n",
      "\u001b[0;31mTypeError\u001b[0m: __call__(): incompatible function arguments. The following argument types are supported:\n    1. (self: _dlib_pybind11.fhog_object_detector, image: numpy.ndarray, upsample_num_times: int = 0) -> _dlib_pybind11.rectangles\n\nInvoked with: <_dlib_pybind11.fhog_object_detector object at 0x10623ac30>, None, 1"
     ]
    }
   ],
   "source": [
    "import cv2\n",
    "import face_recognition\n",
    "import os\n",
    "from sys import exit\n",
    "import sys\n",
    "# Function to load images and encode faces\n",
    "def load_images_from_folder(folder):\n",
    "    known_faces = []\n",
    "    known_names = []\n",
    "\n",
    "    for person_folder in os.listdir(folder):\n",
    "        person_path = os.path.join(folder, person_folder)\n",
    "\n",
    "        # Skip non-directory items\n",
    "        if not os.path.isdir(person_path):\n",
    "            continue\n",
    "\n",
    "        for filename in os.listdir(person_path):\n",
    "            image_path = os.path.join(person_path, filename)\n",
    "\n",
    "            # Skip non-image files\n",
    "            try:\n",
    "                img = face_recognition.load_image_file(image_path)\n",
    "            except (IOError, OSError, Exception) as e:\n",
    "                print(f\"Skipping {filename} in {person_folder} due to an error: {str(e)}\")\n",
    "                continue\n",
    "\n",
    "            # Check if the image contains a face\n",
    "            if len(face_recognition.face_encodings(img)) == 0:\n",
    "                print(f\"Skipping {filename} in {person_folder} as no face was found.\")\n",
    "                continue\n",
    "\n",
    "            face_encoding = face_recognition.face_encodings(img)[0]\n",
    "\n",
    "            # Use the name of the subdirectory as the person's name\n",
    "            name = person_folder\n",
    "\n",
    "            known_faces.append(face_encoding)\n",
    "            known_names.append(name)\n",
    "\n",
    "    return known_faces, known_names\n",
    "\n",
    "\n",
    "# Function to recognize faces using camera\n",
    "def recognize_faces(camera_index=0):\n",
    "    # Load known faces and names from the dataset folder\n",
    "    dataset_folder = \"dataset\"\n",
    "    known_faces, known_names = load_images_from_folder(dataset_folder)\n",
    "\n",
    "    # Initialize camera\n",
    "    cap = cv2.VideoCapture(camera_index)\n",
    "\n",
    "    while True:\n",
    "        # Capture frame-by-frame\n",
    "        ret, frame = cap.read()\n",
    "\n",
    "        # Find all face locations and face encodings in the current frame\n",
    "        face_locations = face_recognition.face_locations(frame)\n",
    "        face_encodings = face_recognition.face_encodings(frame, face_locations)\n",
    "\n",
    "        # Loop through each face found in the frame\n",
    "        for (top, right, bottom, left), face_encoding in zip(face_locations, face_encodings):\n",
    "            # Check if the face matches any known faces\n",
    "\n",
    "            matches = face_recognition.compare_faces(known_faces, face_encoding, tolerance=0.5)\n",
    "\n",
    "            name = \"Unknown\"\n",
    "\n",
    "            # If a match is found, use the name of the known face\n",
    "            if True in matches:\n",
    "                first_match_index = matches.index(True)\n",
    "                name = known_names[first_match_index]\n",
    "\n",
    "            # Draw rectangle around the face and display the name\n",
    "            cv2.rectangle(frame, (left, top), (right, bottom), (0, 255, 0), 2)\n",
    "            font = cv2.FONT_HERSHEY_DUPLEX\n",
    "            cv2.putText(frame, name, (left + 6, bottom - 6), font, 0.5, (255, 255, 255), 1)\n",
    "\n",
    "        # Display the resulting frame\n",
    "        cv2.imshow('Face Recognition', frame)\n",
    "\n",
    "        # Break the loop when 'q' key is pressed\n",
    "        if cv2.waitKey(1) & 0xFF == ord('q'):\n",
    "            break\n",
    "\n",
    "    # Release the camera and close all windows\n",
    "    cap.release()\n",
    "    cv2.destroyAllWindows()\n",
    "\n",
    "# Call the function to start face recognition using camera\n",
    "recognize_faces()\n"
   ]
  },
  {
   "cell_type": "code",
   "execution_count": null,
   "metadata": {},
   "outputs": [],
   "source": []
  },
  {
   "cell_type": "code",
   "execution_count": null,
   "metadata": {},
   "outputs": [],
   "source": []
  }
 ],
 "metadata": {
  "kernelspec": {
   "display_name": "Python 3",
   "language": "python",
   "name": "python3"
  },
  "language_info": {
   "codemirror_mode": {
    "name": "ipython",
    "version": 3
   },
   "file_extension": ".py",
   "mimetype": "text/x-python",
   "name": "python",
   "nbconvert_exporter": "python",
   "pygments_lexer": "ipython3",
   "version": "3.12.0"
  }
 },
 "nbformat": 4,
 "nbformat_minor": 2
}
